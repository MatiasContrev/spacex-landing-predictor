{
 "cells": [
  {
   "cell_type": "markdown",
   "id": "af67fa42",
   "metadata": {},
   "source": [
    "# 🚀 Falcon 9 First Stage Landing Prediction\n",
    "This notebook creates a machine learning pipeline to predict whether the first stage of a Falcon 9 rocket will land successfully."
   ]
  },
  {
   "cell_type": "code",
   "execution_count": null,
   "id": "37b8899c",
   "metadata": {},
   "outputs": [],
   "source": [
    "import pandas as pd\n",
    "import numpy as np\n",
    "import matplotlib.pyplot as plt\n",
    "import seaborn as sns\n",
    "\n",
    "from sklearn.model_selection import train_test_split, GridSearchCV\n",
    "from sklearn.preprocessing import StandardScaler\n",
    "from sklearn.linear_model import LogisticRegression\n",
    "from sklearn.svm import SVC\n",
    "from sklearn.tree import DecisionTreeClassifier\n",
    "from sklearn.neighbors import KNeighborsClassifier\n",
    "from sklearn.metrics import accuracy_score, confusion_matrix\n",
    "\n",
    "import warnings\n",
    "warnings.filterwarnings('ignore')\n"
   ]
  },
  {
   "cell_type": "code",
   "execution_count": null,
   "id": "7f3dbef4",
   "metadata": {},
   "outputs": [],
   "source": [
    "# Load datasets\n",
    "url_data = \"https://cf-courses-data.s3.us.cloud-object-storage.appdomain.cloud/IBM-DS0321EN-SkillsNetwork/datasets/dataset_part_2.csv\"\n",
    "url_features = \"https://cf-courses-data.s3.us.cloud-object-storage.appdomain.cloud/IBM-DS0321EN-SkillsNetwork/datasets/dataset_part_3.csv\"\n",
    "\n",
    "data = pd.read_csv(url_data)\n",
    "X = pd.read_csv(url_features)\n",
    "\n",
    "# Target variable\n",
    "Y = data['Class'].to_numpy()\n",
    "\n",
    "# Show preview\n",
    "data.head()\n"
   ]
  },
  {
   "cell_type": "code",
   "execution_count": null,
   "id": "9246cb52",
   "metadata": {},
   "outputs": [],
   "source": [
    "scaler = StandardScaler()\n",
    "X_scaled = scaler.fit_transform(X)\n"
   ]
  },
  {
   "cell_type": "code",
   "execution_count": null,
   "id": "4536e984",
   "metadata": {},
   "outputs": [],
   "source": [
    "X_train, X_test, Y_train, Y_test = train_test_split(X_scaled, Y, test_size=0.2, random_state=2)\n",
    "\n",
    "print(\"Training samples:\", len(X_train))\n",
    "print(\"Testing samples:\", len(X_test))\n"
   ]
  },
  {
   "cell_type": "code",
   "execution_count": null,
   "id": "d73fd049",
   "metadata": {},
   "outputs": [],
   "source": [
    "def plot_confusion_matrix(y_true, y_pred):\n",
    "    cm = confusion_matrix(y_true, y_pred)\n",
    "    ax = plt.subplot()\n",
    "    sns.heatmap(cm, annot=True, fmt='d', cmap='Blues', ax=ax)\n",
    "    ax.set_xlabel('Predicted labels')\n",
    "    ax.set_ylabel('True labels')\n",
    "    ax.set_title('Confusion Matrix')\n",
    "    ax.xaxis.set_ticklabels(['Did not land', 'Landed'])\n",
    "    ax.yaxis.set_ticklabels(['Did not land', 'Landed'])\n",
    "    plt.show()\n"
   ]
  },
  {
   "cell_type": "code",
   "execution_count": null,
   "id": "ba4d6036",
   "metadata": {},
   "outputs": [],
   "source": [
    "lr = LogisticRegression()\n",
    "lr.fit(X_train, Y_train)\n",
    "lr_pred = lr.predict(X_test)\n",
    "print(\"Logistic Regression Accuracy:\", accuracy_score(Y_test, lr_pred))\n",
    "plot_confusion_matrix(Y_test, lr_pred)\n"
   ]
  },
  {
   "cell_type": "code",
   "execution_count": null,
   "id": "2121bb13",
   "metadata": {},
   "outputs": [],
   "source": [
    "svm = SVC()\n",
    "svm.fit(X_train, Y_train)\n",
    "svm_pred = svm.predict(X_test)\n",
    "print(\"SVM Accuracy:\", accuracy_score(Y_test, svm_pred))\n",
    "plot_confusion_matrix(Y_test, svm_pred)\n"
   ]
  },
  {
   "cell_type": "code",
   "execution_count": null,
   "id": "0234dd14",
   "metadata": {},
   "outputs": [],
   "source": [
    "tree = DecisionTreeClassifier()\n",
    "tree.fit(X_train, Y_train)\n",
    "tree_pred = tree.predict(X_test)\n",
    "print(\"Decision Tree Accuracy:\", accuracy_score(Y_test, tree_pred))\n",
    "plot_confusion_matrix(Y_test, tree_pred)\n"
   ]
  },
  {
   "cell_type": "code",
   "execution_count": null,
   "id": "a6bc379d",
   "metadata": {},
   "outputs": [],
   "source": [
    "knn = KNeighborsClassifier()\n",
    "knn.fit(X_train, Y_train)\n",
    "knn_pred = knn.predict(X_test)\n",
    "print(\"KNN Accuracy:\", accuracy_score(Y_test, knn_pred))\n",
    "plot_confusion_matrix(Y_test, knn_pred)\n"
   ]
  },
  {
   "cell_type": "code",
   "execution_count": null,
   "id": "891c9b7a",
   "metadata": {},
   "outputs": [],
   "source": [
    "parameters = {'kernel': ['linear', 'rbf', 'sigmoid'], 'C': [1, 10]}\n",
    "svm_grid = GridSearchCV(SVC(), parameters, cv=5)\n",
    "svm_grid.fit(X_train, Y_train)\n",
    "print(\"Best SVM Kernel:\", svm_grid.best_params_['kernel'])\n",
    "svm_best_pred = svm_grid.predict(X_test)\n",
    "print(\"Best SVM Accuracy:\", accuracy_score(Y_test, svm_best_pred))\n",
    "plot_confusion_matrix(Y_test, svm_best_pred)\n"
   ]
  },
  {
   "cell_type": "code",
   "execution_count": null,
   "id": "001f382c",
   "metadata": {},
   "outputs": [],
   "source": [
    "param_tree = {'max_depth': [2, 4, 6, 8, 10]}\n",
    "grid_tree = GridSearchCV(DecisionTreeClassifier(), param_tree, cv=5)\n",
    "grid_tree.fit(X_train, Y_train)\n",
    "tree_best_pred = grid_tree.predict(X_test)\n",
    "print(\"Best Decision Tree Depth:\", grid_tree.best_params_['max_depth'])\n",
    "print(\"Best Tree Accuracy:\", accuracy_score(Y_test, tree_best_pred))\n",
    "plot_confusion_matrix(Y_test, tree_best_pred)\n"
   ]
  },
  {
   "cell_type": "markdown",
   "id": "6692d3d6",
   "metadata": {},
   "source": [
    "## ✅ Result Summary\n",
    "\n",
    "- Logistic Regression: Precision evaluada sobre conjunto de prueba\n",
    "- SVM (mejor kernel): Evaluado con GridSearch\n",
    "- Árbol de decisión: Mejor profundidad determinada por validación cruzada\n",
    "- KNN: Modelo base\n",
    "\n",
    "Puedes ajustar hiperparámetros, cambiar modelos o integrar otros enfoques como ensemble si deseas mejorar la predicción.\n"
   ]
  }
 ],
 "metadata": {},
 "nbformat": 4,
 "nbformat_minor": 5
}
